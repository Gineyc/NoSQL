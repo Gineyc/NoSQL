{
 "cells": [
  {
   "cell_type": "markdown",
   "metadata": {},
   "source": [
    "# MongoDB Basic"
   ]
  },
  {
   "cell_type": "markdown",
   "metadata": {},
   "source": [
    "- Create a new MongoClient instance\n",
    "- db = test-database \n",
    "- number of records in a collection\n",
    "- insert item\n",
    "- delete item"
   ]
  },
  {
   "cell_type": "code",
   "execution_count": 16,
   "metadata": {},
   "outputs": [
    {
     "output_type": "execute_result",
     "data": {
      "text/plain": "Database(MongoClient(host=['localhost:27017'], document_class=dict, tz_aware=False, connect=True), 'test-database')"
     },
     "metadata": {},
     "execution_count": 16
    }
   ],
   "source": [
    "import pymongo\n",
    "client = pymongo.MongoClient('localhost',27017)\n",
    "db=client['test-database']\n",
    "db"
   ]
  },
  {
   "cell_type": "markdown",
   "metadata": {},
   "source": [
    "- collection= 'test-collection'under db\n",
    "- return the number of recored in collection"
   ]
  },
  {
   "cell_type": "code",
   "execution_count": 20,
   "metadata": {},
   "outputs": [
    {
     "output_type": "execute_result",
     "data": {
      "text/plain": "4"
     },
     "metadata": {},
     "execution_count": 20
    }
   ],
   "source": [
    "collection = db['test-collection']\n",
    "collection.count()"
   ]
  },
  {
   "cell_type": "markdown",
   "metadata": {},
   "source": [
    "- create a dict named 'test_data'\n",
    "- insert 'test_data' into collection"
   ]
  },
  {
   "cell_type": "code",
   "execution_count": 21,
   "metadata": {},
   "outputs": [
    {
     "output_type": "stream",
     "name": "stdout",
     "text": "test_data {'Age': 39, 'Gender': 'M', 'Occupation': 'Graphical Designer'}\ninsert_result:  <pymongo.results.InsertOneResult object at 0x000001A3FB01DF08>\n"
    }
   ],
   "source": [
    "test_data={'Age':39, 'Gender':'M','Occupation':'Graphical Designer'}\n",
    "print(\"test_data\",test_data)\n",
    "insert_result= collection.insert_one(test_data)\n",
    "print(\"insert_result: \",insert_result)"
   ]
  },
  {
   "cell_type": "markdown",
   "metadata": {},
   "source": [
    "if I have a line that writes to the DB, \"acknowledged\" write concern mode would be True"
   ]
  },
  {
   "cell_type": "code",
   "execution_count": 22,
   "metadata": {},
   "outputs": [
    {
     "output_type": "stream",
     "name": "stdout",
     "text": "acknowledged:  True\nrecord_count:  5\n"
    }
   ],
   "source": [
    "print(\"acknowledged: \",insert_result.acknowledged)\n",
    "print(\"record_count: \",collection.count())"
   ]
  },
  {
   "cell_type": "markdown",
   "metadata": {},
   "source": [
    "check the insert_ID of inserted item"
   ]
  },
  {
   "cell_type": "code",
   "execution_count": 24,
   "metadata": {},
   "outputs": [
    {
     "output_type": "execute_result",
     "data": {
      "text/plain": "ObjectId('5ee8dd1c52916cce5a5ede00')"
     },
     "metadata": {},
     "execution_count": 24
    }
   ],
   "source": [
    "insert_result.inserted_id"
   ]
  },
  {
   "cell_type": "markdown",
   "metadata": {},
   "source": [
    "delete one result "
   ]
  },
  {
   "cell_type": "code",
   "execution_count": 25,
   "metadata": {},
   "outputs": [],
   "source": [
    "delete_result = collection.delete_one({'Age':39})"
   ]
  },
  {
   "cell_type": "code",
   "execution_count": 26,
   "metadata": {},
   "outputs": [
    {
     "output_type": "execute_result",
     "data": {
      "text/plain": "4"
     },
     "metadata": {},
     "execution_count": 26
    }
   ],
   "source": [
    "collection.count()"
   ]
  },
  {
   "cell_type": "markdown",
   "metadata": {},
   "source": [
    "# Insert and Quality Check\n",
    "\n",
    "- create client\n",
    "- create db\n",
    "- create collection\n",
    "- mapping the columns heading and value as a dict\n",
    "- insert each dict as a row in the collection\n",
    "\n",
    "**check the type of value (string to int) **"
   ]
  },
  {
   "cell_type": "code",
   "execution_count": 30,
   "metadata": {},
   "outputs": [],
   "source": [
    "import pymongo\n",
    "import pandas as pd\n",
    "client = pymongo.MongoClient('localhost',27017)\n",
    "# create new database - test\n",
    "db = client['test']\n",
    "# #create new collection - income\n",
    "collection = db['income']"
   ]
  },
  {
   "cell_type": "markdown",
   "metadata": {},
   "source": [
    "Batch insert"
   ]
  },
  {
   "cell_type": "code",
   "execution_count": 34,
   "metadata": {},
   "outputs": [
    {
     "output_type": "execute_result",
     "data": {
      "text/plain": "['age',\n 'workclass',\n 'fnlwgt',\n 'education',\n 'education-num',\n 'marital-status',\n 'occupation',\n 'relationship',\n 'race',\n 'sex',\n 'capital-gain',\n 'capital-loss',\n 'hours-per-week',\n 'native-country',\n 'label']"
     },
     "metadata": {},
     "execution_count": 34
    }
   ],
   "source": [
    "with open('data\\income_header.txt') as f_in:\n",
    "    columns_heading = f_in.readline()\n",
    "columns_heading_list = columns_heading.split(',')\n",
    "columns_heading_list"
   ]
  },
  {
   "cell_type": "code",
   "execution_count": 36,
   "metadata": {},
   "outputs": [],
   "source": [
    "\n",
    "with open('data\\income.txt') as f_in:\n",
    "    for line in f_in:\n",
    "        row_list = line.rstrip('\\n').split(',')\n",
    "        row_dict = dict(zip(columns_heading_list,row_list))\n",
    "        try:\n",
    "            row_dict['age']=int(row_dict['age'])\n",
    "            collection.insert_one(row_dict)\n",
    "        except:\n",
    "            pass"
   ]
  },
  {
   "cell_type": "code",
   "execution_count": 37,
   "metadata": {},
   "outputs": [
    {
     "output_type": "execute_result",
     "data": {
      "text/plain": "32561"
     },
     "metadata": {},
     "execution_count": 37
    }
   ],
   "source": [
    "collection.count()"
   ]
  },
  {
   "cell_type": "code",
   "execution_count": null,
   "metadata": {},
   "outputs": [],
   "source": [
    "#cursor is a data structure that does several things including: keeping a pointer to the current row in a results set."
   ]
  },
  {
   "cell_type": "code",
   "execution_count": 38,
   "metadata": {},
   "outputs": [
    {
     "output_type": "stream",
     "name": "stdout",
     "text": "<class 'pymongo.cursor.Cursor'>\n"
    }
   ],
   "source": [
    "age_over_35 = collection.find({'age':{'$gt':35}})\n",
    "print(type(age_over_35))"
   ]
  },
  {
   "cell_type": "code",
   "execution_count": 39,
   "metadata": {},
   "outputs": [
    {
     "output_type": "stream",
     "name": "stdout",
     "text": "The next result in the list: \n {'_id': ObjectId('5ee8e21c52916cce5a5ede05'), 'age': 39, 'workclass': ' State-gov', 'fnlwgt': ' 77516', 'education': ' Bachelors', 'education-num': ' 13', 'marital-status': ' Never-married', 'occupation': ' Adm-clerical', 'relationship': ' Not-in-family', 'race': ' White', 'sex': ' Male', 'capital-gain': ' 2174', 'capital-loss': ' 0', 'hours-per-week': ' 40', 'native-country': ' United-States', 'label': ' <=50K'}\n\nCount of client with age over 35:\n 17636\n"
    }
   ],
   "source": [
    "print(\"The next result in the list: \\n\",age_over_35.next())\n",
    "print(\"\\nCount of client with age over 35:\\n\",age_over_35.count())"
   ]
  },
  {
   "cell_type": "markdown",
   "metadata": {},
   "source": [
    "# Index data"
   ]
  },
  {
   "cell_type": "code",
   "execution_count": 42,
   "metadata": {},
   "outputs": [
    {
     "output_type": "stream",
     "name": "stdout",
     "text": "{'_id': ObjectId('5ee8e21c52916cce5a5ede05'), 'age': 39, 'workclass': ' State-gov', 'fnlwgt': ' 77516', 'education': ' Bachelors', 'education-num': ' 13', 'marital-status': ' Never-married', 'occupation': ' Adm-clerical', 'relationship': ' Not-in-family', 'race': ' White', 'sex': ' Male', 'capital-gain': ' 2174', 'capital-loss': ' 0', 'hours-per-week': ' 40', 'native-country': ' United-States', 'label': ' <=50K'}\n"
    }
   ],
   "source": [
    "age_morethan_25 = collection.find({'age':{'$gt':25}})\n",
    "print(age_morethan_25.next())"
   ]
  },
  {
   "cell_type": "code",
   "execution_count": 43,
   "metadata": {},
   "outputs": [],
   "source": [
    "index_result=db.profiles.create_index([('age',pymongo.ASCENDING)],unique=False)"
   ]
  },
  {
   "cell_type": "code",
   "execution_count": 44,
   "metadata": {},
   "outputs": [
    {
     "output_type": "execute_result",
     "data": {
      "text/plain": "'age_1'"
     },
     "metadata": {},
     "execution_count": 44
    }
   ],
   "source": [
    "index_result"
   ]
  },
  {
   "cell_type": "markdown",
   "metadata": {},
   "source": [
    "# PyMongo and Pandas"
   ]
  },
  {
   "cell_type": "code",
   "execution_count": 46,
   "metadata": {},
   "outputs": [],
   "source": [
    "import pymongo\n",
    "import pandas as pd\n",
    "client = pymongo.MongoClient('localhost',27017)\n",
    "db = client['test']\n",
    "collection = db['income']"
   ]
  },
  {
   "cell_type": "code",
   "execution_count": 50,
   "metadata": {},
   "outputs": [
    {
     "output_type": "execute_result",
     "data": {
      "text/plain": "                            _id  age          workclass   fnlwgt    education  \\\n0      5ee8e21c52916cce5a5ede05   39          State-gov    77516    Bachelors   \n1      5ee8e21c52916cce5a5ede06   50   Self-emp-not-inc    83311    Bachelors   \n2      5ee8e21c52916cce5a5ede07   38            Private   215646      HS-grad   \n3      5ee8e21c52916cce5a5ede08   53            Private   234721         11th   \n4      5ee8e21c52916cce5a5ede09   28            Private   338409    Bachelors   \n...                         ...  ...                ...      ...          ...   \n32556  5ee8e22b52916cce5a5f5d31   27            Private   257302   Assoc-acdm   \n32557  5ee8e22b52916cce5a5f5d32   40            Private   154374      HS-grad   \n32558  5ee8e22b52916cce5a5f5d33   58            Private   151910      HS-grad   \n32559  5ee8e22b52916cce5a5f5d34   22            Private   201490      HS-grad   \n32560  5ee8e22b52916cce5a5f5d35   52       Self-emp-inc   287927      HS-grad   \n\n      education-num       marital-status          occupation    relationship  \\\n0                13        Never-married        Adm-clerical   Not-in-family   \n1                13   Married-civ-spouse     Exec-managerial         Husband   \n2                 9             Divorced   Handlers-cleaners   Not-in-family   \n3                 7   Married-civ-spouse   Handlers-cleaners         Husband   \n4                13   Married-civ-spouse      Prof-specialty            Wife   \n...             ...                  ...                 ...             ...   \n32556            12   Married-civ-spouse        Tech-support            Wife   \n32557             9   Married-civ-spouse   Machine-op-inspct         Husband   \n32558             9              Widowed        Adm-clerical       Unmarried   \n32559             9        Never-married        Adm-clerical       Own-child   \n32560             9   Married-civ-spouse     Exec-managerial            Wife   \n\n         race      sex capital-gain capital-loss hours-per-week  \\\n0       White     Male         2174            0             40   \n1       White     Male            0            0             13   \n2       White     Male            0            0             40   \n3       Black     Male            0            0             40   \n4       Black   Female            0            0             40   \n...       ...      ...          ...          ...            ...   \n32556   White   Female            0            0             38   \n32557   White     Male            0            0             40   \n32558   White   Female            0            0             40   \n32559   White     Male            0            0             20   \n32560   White   Female        15024            0             40   \n\n       native-country   label  \n0       United-States   <=50K  \n1       United-States   <=50K  \n2       United-States   <=50K  \n3       United-States   <=50K  \n4                Cuba   <=50K  \n...               ...     ...  \n32556   United-States   <=50K  \n32557   United-States    >50K  \n32558   United-States   <=50K  \n32559   United-States   <=50K  \n32560   United-States    >50K  \n\n[32561 rows x 16 columns]",
      "text/html": "<div>\n<style scoped>\n    .dataframe tbody tr th:only-of-type {\n        vertical-align: middle;\n    }\n\n    .dataframe tbody tr th {\n        vertical-align: top;\n    }\n\n    .dataframe thead th {\n        text-align: right;\n    }\n</style>\n<table border=\"1\" class=\"dataframe\">\n  <thead>\n    <tr style=\"text-align: right;\">\n      <th></th>\n      <th>_id</th>\n      <th>age</th>\n      <th>workclass</th>\n      <th>fnlwgt</th>\n      <th>education</th>\n      <th>education-num</th>\n      <th>marital-status</th>\n      <th>occupation</th>\n      <th>relationship</th>\n      <th>race</th>\n      <th>sex</th>\n      <th>capital-gain</th>\n      <th>capital-loss</th>\n      <th>hours-per-week</th>\n      <th>native-country</th>\n      <th>label</th>\n    </tr>\n  </thead>\n  <tbody>\n    <tr>\n      <th>0</th>\n      <td>5ee8e21c52916cce5a5ede05</td>\n      <td>39</td>\n      <td>State-gov</td>\n      <td>77516</td>\n      <td>Bachelors</td>\n      <td>13</td>\n      <td>Never-married</td>\n      <td>Adm-clerical</td>\n      <td>Not-in-family</td>\n      <td>White</td>\n      <td>Male</td>\n      <td>2174</td>\n      <td>0</td>\n      <td>40</td>\n      <td>United-States</td>\n      <td>&lt;=50K</td>\n    </tr>\n    <tr>\n      <th>1</th>\n      <td>5ee8e21c52916cce5a5ede06</td>\n      <td>50</td>\n      <td>Self-emp-not-inc</td>\n      <td>83311</td>\n      <td>Bachelors</td>\n      <td>13</td>\n      <td>Married-civ-spouse</td>\n      <td>Exec-managerial</td>\n      <td>Husband</td>\n      <td>White</td>\n      <td>Male</td>\n      <td>0</td>\n      <td>0</td>\n      <td>13</td>\n      <td>United-States</td>\n      <td>&lt;=50K</td>\n    </tr>\n    <tr>\n      <th>2</th>\n      <td>5ee8e21c52916cce5a5ede07</td>\n      <td>38</td>\n      <td>Private</td>\n      <td>215646</td>\n      <td>HS-grad</td>\n      <td>9</td>\n      <td>Divorced</td>\n      <td>Handlers-cleaners</td>\n      <td>Not-in-family</td>\n      <td>White</td>\n      <td>Male</td>\n      <td>0</td>\n      <td>0</td>\n      <td>40</td>\n      <td>United-States</td>\n      <td>&lt;=50K</td>\n    </tr>\n    <tr>\n      <th>3</th>\n      <td>5ee8e21c52916cce5a5ede08</td>\n      <td>53</td>\n      <td>Private</td>\n      <td>234721</td>\n      <td>11th</td>\n      <td>7</td>\n      <td>Married-civ-spouse</td>\n      <td>Handlers-cleaners</td>\n      <td>Husband</td>\n      <td>Black</td>\n      <td>Male</td>\n      <td>0</td>\n      <td>0</td>\n      <td>40</td>\n      <td>United-States</td>\n      <td>&lt;=50K</td>\n    </tr>\n    <tr>\n      <th>4</th>\n      <td>5ee8e21c52916cce5a5ede09</td>\n      <td>28</td>\n      <td>Private</td>\n      <td>338409</td>\n      <td>Bachelors</td>\n      <td>13</td>\n      <td>Married-civ-spouse</td>\n      <td>Prof-specialty</td>\n      <td>Wife</td>\n      <td>Black</td>\n      <td>Female</td>\n      <td>0</td>\n      <td>0</td>\n      <td>40</td>\n      <td>Cuba</td>\n      <td>&lt;=50K</td>\n    </tr>\n    <tr>\n      <th>...</th>\n      <td>...</td>\n      <td>...</td>\n      <td>...</td>\n      <td>...</td>\n      <td>...</td>\n      <td>...</td>\n      <td>...</td>\n      <td>...</td>\n      <td>...</td>\n      <td>...</td>\n      <td>...</td>\n      <td>...</td>\n      <td>...</td>\n      <td>...</td>\n      <td>...</td>\n      <td>...</td>\n    </tr>\n    <tr>\n      <th>32556</th>\n      <td>5ee8e22b52916cce5a5f5d31</td>\n      <td>27</td>\n      <td>Private</td>\n      <td>257302</td>\n      <td>Assoc-acdm</td>\n      <td>12</td>\n      <td>Married-civ-spouse</td>\n      <td>Tech-support</td>\n      <td>Wife</td>\n      <td>White</td>\n      <td>Female</td>\n      <td>0</td>\n      <td>0</td>\n      <td>38</td>\n      <td>United-States</td>\n      <td>&lt;=50K</td>\n    </tr>\n    <tr>\n      <th>32557</th>\n      <td>5ee8e22b52916cce5a5f5d32</td>\n      <td>40</td>\n      <td>Private</td>\n      <td>154374</td>\n      <td>HS-grad</td>\n      <td>9</td>\n      <td>Married-civ-spouse</td>\n      <td>Machine-op-inspct</td>\n      <td>Husband</td>\n      <td>White</td>\n      <td>Male</td>\n      <td>0</td>\n      <td>0</td>\n      <td>40</td>\n      <td>United-States</td>\n      <td>&gt;50K</td>\n    </tr>\n    <tr>\n      <th>32558</th>\n      <td>5ee8e22b52916cce5a5f5d33</td>\n      <td>58</td>\n      <td>Private</td>\n      <td>151910</td>\n      <td>HS-grad</td>\n      <td>9</td>\n      <td>Widowed</td>\n      <td>Adm-clerical</td>\n      <td>Unmarried</td>\n      <td>White</td>\n      <td>Female</td>\n      <td>0</td>\n      <td>0</td>\n      <td>40</td>\n      <td>United-States</td>\n      <td>&lt;=50K</td>\n    </tr>\n    <tr>\n      <th>32559</th>\n      <td>5ee8e22b52916cce5a5f5d34</td>\n      <td>22</td>\n      <td>Private</td>\n      <td>201490</td>\n      <td>HS-grad</td>\n      <td>9</td>\n      <td>Never-married</td>\n      <td>Adm-clerical</td>\n      <td>Own-child</td>\n      <td>White</td>\n      <td>Male</td>\n      <td>0</td>\n      <td>0</td>\n      <td>20</td>\n      <td>United-States</td>\n      <td>&lt;=50K</td>\n    </tr>\n    <tr>\n      <th>32560</th>\n      <td>5ee8e22b52916cce5a5f5d35</td>\n      <td>52</td>\n      <td>Self-emp-inc</td>\n      <td>287927</td>\n      <td>HS-grad</td>\n      <td>9</td>\n      <td>Married-civ-spouse</td>\n      <td>Exec-managerial</td>\n      <td>Wife</td>\n      <td>White</td>\n      <td>Female</td>\n      <td>15024</td>\n      <td>0</td>\n      <td>40</td>\n      <td>United-States</td>\n      <td>&gt;50K</td>\n    </tr>\n  </tbody>\n</table>\n<p>32561 rows × 16 columns</p>\n</div>"
     },
     "metadata": {},
     "execution_count": 50
    }
   ],
   "source": [
    "income_df=pd.DataFrame(list(collection.find()))\n",
    "income_df"
   ]
  },
  {
   "cell_type": "code",
   "execution_count": 51,
   "metadata": {},
   "outputs": [
    {
     "output_type": "execute_result",
     "data": {
      "text/plain": "count    32561.000000\nmean        38.581647\nstd         13.640433\nmin         17.000000\n25%         28.000000\n50%         37.000000\n75%         48.000000\nmax         90.000000\nName: age, dtype: float64"
     },
     "metadata": {},
     "execution_count": 51
    }
   ],
   "source": [
    "income_df.age.describe()"
   ]
  },
  {
   "cell_type": "code",
   "execution_count": 52,
   "metadata": {},
   "outputs": [
    {
     "output_type": "execute_result",
     "data": {
      "text/plain": " United-States                 29170\n Mexico                          643\n ?                               583\n Philippines                     198\n Germany                         137\n Canada                          121\n Puerto-Rico                     114\n El-Salvador                     106\n India                           100\n Cuba                             95\n England                          90\n Jamaica                          81\n South                            80\n China                            75\n Italy                            73\n Dominican-Republic               70\n Vietnam                          67\n Guatemala                        64\n Japan                            62\n Poland                           60\n Columbia                         59\n Taiwan                           51\n Haiti                            44\n Iran                             43\n Portugal                         37\n Nicaragua                        34\n Peru                             31\n France                           29\n Greece                           29\n Ecuador                          28\n Ireland                          24\n Hong                             20\n Trinadad&Tobago                  19\n Cambodia                         19\n Laos                             18\n Thailand                         18\n Yugoslavia                       16\n Outlying-US(Guam-USVI-etc)       14\n Honduras                         13\n Hungary                          13\n Scotland                         12\n Holand-Netherlands                1\nName: native-country, dtype: int64"
     },
     "metadata": {},
     "execution_count": 52
    }
   ],
   "source": [
    "income_df['native-country'].value_counts()"
   ]
  }
 ],
 "metadata": {
  "language_info": {
   "codemirror_mode": {
    "name": "ipython",
    "version": 3
   },
   "file_extension": ".py",
   "mimetype": "text/x-python",
   "name": "python",
   "nbconvert_exporter": "python",
   "pygments_lexer": "ipython3",
   "version": "3.7.7-final"
  },
  "orig_nbformat": 2,
  "kernelspec": {
   "name": "python37764bitbaseconda6dbd0a79d65342aaac9adf279ef76d69",
   "display_name": "Python 3.7.7 64-bit ('base': conda)"
  }
 },
 "nbformat": 4,
 "nbformat_minor": 2
}