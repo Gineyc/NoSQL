{
 "cells": [
  {
   "cell_type": "markdown",
   "metadata": {},
   "source": [
    "# Install JDK and Cassandra \n",
    "- Install JDK, set enviornment variable of JAVA_HOME Path\n",
    "- Download Cassandra, set environment variable of CASSANDRA_HOME Path\n",
    "- run CASSANDRA_HOME Path\\bin\\cassandra.bat to run the serves"
   ]
  },
  {
   "cell_type": "code",
   "execution_count": 39,
   "metadata": {},
   "outputs": [
    {
     "output_type": "stream",
     "name": "stderr",
     "text": "WARNING:cassandra.cluster:Cluster.__init__ called with contact_points specified, but no load_balancing_policy. In the next major version, this will raise an error; please specify a load-balancing policy. (contact_points = ['localhost'], lbp = None)\nWARNING:cassandra.cluster:[control connection] Error connecting to ::1:9042:\nTraceback (most recent call last):\n  File \"cassandra\\cluster.py\", line 3519, in cassandra.cluster.ControlConnection._reconnect_internal\n  File \"cassandra\\cluster.py\", line 3541, in cassandra.cluster.ControlConnection._try_connect\n  File \"cassandra\\cluster.py\", line 1617, in cassandra.cluster.Cluster.connection_factory\n  File \"cassandra\\connection.py\", line 759, in cassandra.connection.Connection.factory\n  File \"C:\\ProgramData\\Anaconda3\\lib\\site-packages\\cassandra\\io\\asyncorereactor.py\", line 351, in __init__\n    self._connect_socket()\n  File \"cassandra\\connection.py\", line 826, in cassandra.connection.Connection._connect_socket\nConnectionRefusedError: [Errno 10061] Tried connecting to [('::1', 9042, 0, 0)]. Last error: No connection could be made because the target machine actively refused it\nWARNING:cassandra.cluster:Downgrading core protocol version from 66 to 65 for 127.0.0.1:9042. To avoid this, it is best practice to explicitly set Cluster(protocol_version) to the version supported by your cluster. http://datastax.github.io/python-driver/api/cassandra/cluster.html#cassandra.cluster.Cluster.protocol_version\nWARNING:cassandra.cluster:Downgrading core protocol version from 65 to 4 for 127.0.0.1:9042. To avoid this, it is best practice to explicitly set Cluster(protocol_version) to the version supported by your cluster. http://datastax.github.io/python-driver/api/cassandra/cluster.html#cassandra.cluster.Cluster.protocol_version\n"
    }
   ],
   "source": [
    "from cassandra.cluster import Cluster\n",
    "cluster=Cluster(['localhost'])\n",
    "session=cluster.connect()"
   ]
  },
  {
   "cell_type": "code",
   "execution_count": 40,
   "metadata": {},
   "outputs": [
    {
     "output_type": "execute_result",
     "data": {
      "text/plain": "<cassandra.cluster.ResultSet at 0x1a4ce31d588>"
     },
     "metadata": {},
     "execution_count": 40
    }
   ],
   "source": [
    "session.execute(\"drop KEYSPACE stocks\")"
   ]
  },
  {
   "cell_type": "code",
   "execution_count": 41,
   "metadata": {},
   "outputs": [
    {
     "output_type": "execute_result",
     "data": {
      "text/plain": "<cassandra.cluster.ResultSet at 0x1a4ce04fa88>"
     },
     "metadata": {},
     "execution_count": 41
    }
   ],
   "source": [
    "session.execute(\"CREATE KEYSPACE stocks \\\n",
    "                    WITH replication={'class':'SimpleStrategy',\\\n",
    "                    'replication_factor':1}\")"
   ]
  },
  {
   "cell_type": "code",
   "execution_count": 43,
   "metadata": {},
   "outputs": [],
   "source": [
    "session.set_keyspace('stocks')"
   ]
  },
  {
   "cell_type": "code",
   "execution_count": 44,
   "metadata": {},
   "outputs": [
    {
     "output_type": "execute_result",
     "data": {
      "text/plain": "<cassandra.cluster.ResultSet at 0x1a4ce877a48>"
     },
     "metadata": {},
     "execution_count": 44
    }
   ],
   "source": [
    "session.execute(\"\"\"\n",
    "                    CREATE TABLE company(\n",
    "                        company_id text,\n",
    "                        name_latest text,\n",
    "                        name_previous text,\n",
    "                        PRIMARY KEY (company_id)\n",
    "                        )\n",
    "                        \"\"\")"
   ]
  },
  {
   "cell_type": "code",
   "execution_count": 45,
   "metadata": {},
   "outputs": [
    {
     "output_type": "execute_result",
     "data": {
      "text/plain": "<cassandra.cluster.ResultSet at 0x1a4ce1df5c8>"
     },
     "metadata": {},
     "execution_count": 45
    }
   ],
   "source": [
    "session.execute(\"\"\"\n",
    "                    CREATE TABLE indicator_by_company(\n",
    "                        company_id text,\n",
    "                        indicator_id text,\n",
    "                        yr_2010 bigint,\n",
    "                        yr_2011 bigint,\n",
    "                        yr_2012 bigint,\n",
    "                        yr_2013 bigint,\n",
    "                        yr_2014 bigint,\n",
    "                        yr_2015 bigint,\n",
    "                        yr_2016 bigint,\n",
    "                        PRIMARY KEY (company_id,indicator_id)\n",
    "                        )\n",
    "                        \"\"\")"
   ]
  },
  {
   "cell_type": "markdown",
   "metadata": {},
   "source": [
    "# Load data into Cassandra using Json\n",
    "- import json module\n",
    "- use json modul to open json file into list(dict)\n",
    "- use session.excute to insert loaded files into cassandra"
   ]
  },
  {
   "cell_type": "code",
   "execution_count": 46,
   "metadata": {},
   "outputs": [
    {
     "output_type": "stream",
     "name": "stdout",
     "text": "type of loaded json file: <class 'list'>\n"
    },
    {
     "output_type": "execute_result",
     "data": {
      "text/plain": "{'company_id': '1000228',\n 'name_latest': 'Henry Schein Inc',\n 'names_previous': None}"
     },
     "metadata": {},
     "execution_count": 46
    }
   ],
   "source": [
    "import json\n",
    "with open('data\\companies.json') as f_in:\n",
    "    companies = json.load(f_in)\n",
    "print(\"type of loaded json file:\",type(companies))\n",
    "companies[3]"
   ]
  },
  {
   "cell_type": "code",
   "execution_count": 47,
   "metadata": {},
   "outputs": [
    {
     "output_type": "stream",
     "name": "stdout",
     "text": "elements in list: <class 'dict'>\n"
    }
   ],
   "source": [
    "print(\"elements in list:\",type(companies[0]))"
   ]
  },
  {
   "cell_type": "code",
   "execution_count": 48,
   "metadata": {},
   "outputs": [
    {
     "output_type": "execute_result",
     "data": {
      "text/plain": "<cassandra.cluster.ResultSet at 0x1a4cdec5908>"
     },
     "metadata": {},
     "execution_count": 48
    }
   ],
   "source": [
    "session.execute(\n",
    "                \"\"\"\n",
    "                INSERT INTO company (company_id, name_latest, name_previous)\n",
    "                VALUES (%s ,%s ,%s)\n",
    "                \"\"\",\n",
    "                ('1000228','Henry Schein Inc',''))"
   ]
  },
  {
   "cell_type": "code",
   "execution_count": 49,
   "metadata": {},
   "outputs": [
    {
     "output_type": "execute_result",
     "data": {
      "text/plain": "[Row(company_id='1000228', name_latest='Henry Schein Inc', name_previous='')]"
     },
     "metadata": {},
     "execution_count": 49
    }
   ],
   "source": [
    "result_set = session.execute(\"\"\" SELECT * FROM COMPANY\"\"\")\n",
    "result_set.current_rows"
   ]
  },
  {
   "cell_type": "markdown",
   "metadata": {},
   "source": [
    "- insert all rows in json file into cassandra"
   ]
  },
  {
   "cell_type": "code",
   "execution_count": 50,
   "metadata": {},
   "outputs": [],
   "source": [
    "for company in companies:\n",
    "    \n",
    "    try:\n",
    "        session.execute(\n",
    "                \"\"\"\n",
    "                INSERT INTO company (company_id, name_latest, name_previous)\n",
    "                VALUES (%s ,%s ,%s)\n",
    "                \"\"\",\n",
    "                (company['company_id'],company['name_latest'],company['names_previous']))\n",
    "    except:\n",
    "        pass\n",
    "    "
   ]
  },
  {
   "cell_type": "code",
   "execution_count": 51,
   "metadata": {},
   "outputs": [
    {
     "output_type": "stream",
     "name": "stderr",
     "text": "WARNING:cassandra.protocol:Server warning: Read 5000 live rows and 5000 tombstone cells for query SELECT * FROM stocks.company WHERE  LIMIT 5000 (see tombstone_warn_threshold)\n"
    },
    {
     "output_type": "execute_result",
     "data": {
      "text/plain": "ice Hotels International Inc /DE', name_previous=None),\n Row(company_id='1448962', name_latest='YA ZHU Silk, Inc.', name_previous=None),\n Row(company_id='1282400', name_latest='Mewbourne Energy Partners 04-A LP', name_previous=None),\n Row(company_id='315261', name_latest='Texas Vanguard OIL CO', name_previous=None),\n Row(company_id='1349976', name_latest='American Standard Energy Corp.', name_previous=None),\n Row(company_id='1587246', name_latest='Cypress Energy Partners, L.P.', name_previous=None),\n Row(company_id='788885', name_latest='Pennichuck Corp', name_previous=None),\n Row(company_id='1404641', name_latest='Fidus Mezzanine Capital LP', name_previous=None),\n Row(company_id='885551', name_latest='Valence Technology Inc', name_previous=None),\n Row(company_id='804217', name_latest='Secured Income L P', name_previous=None),\n Row(company_id='1603145', name_latest='Nextera Energy Partners, LP', name_previous=None),\n Row(company_id='1423243', name_latest='Srkp 26 Inc', name_previous=None),\n Row(company_id='777917', name_latest='Pruco Life Insurance CO', name_previous=None),\n Row(company_id='1633933', name_latest='California Republic Auto Receivables Trust 2015-1', name_previous=None),\n Row(company_id='862831', name_latest='Financial Institutions Inc', name_previous=None),\n Row(company_id='1137774', name_latest='Prudential Financial Inc', name_previous=None),\n Row(company_id='820318', name_latest='Ii-Vi Inc', name_previous=None),\n Row(company_id='1578533', name_latest='Comm 2013-Ccre9 Mortgage Trust', name_previous=None),\n Row(company_id='921500', name_latest='Consolidated Graphics Inc /TX/', name_previous=None),\n Row(company_id='847416', name_latest='Eagle Ford OIL & GAS Corp', name_previous=None),\n Row(company_id='1612720', name_latest='Harmony Merger Corp.', name_previous=None),\n Row(company_id='1307624', name_latest='Xinyinhai Technology, Ltd.', name_previous=None),\n Row(company_id='717538', name_latest='Arrow Financial Corp', name_previous=None),\n Row(company_id='1135711', name_latest='Netlogic Microsystems Inc', name_previous=None),\n Row(company_id='825788', name_latest='Divall Insured Income Properties 2 Limited Partnership', name_previous=None),\n Row(company_id='1530185', name_latest='Atvrockn', name_previous=None),\n Row(company_id='796655', name_latest='Ants Software Inc', name_previous=None),\n Row(company_id='1463972', name_latest='Vuzix Corp', name_previous=None),\n Row(company_id='709005', name_latest='Noble Romans Inc', name_previous=None),\n Row(company_id='897078', name_latest='Textmunication Holdings, Inc.', name_previous=None),\n Row(company_id='1419886', name_latest='Island Breeze International, Inc.', name_previous=None),\n Row(company_id='1578821', name_latest='Americredit Automobile Receivables Trust 2013-3', name_previous=None),\n Row(company_id='1542774', name_latest='Sentech, Inc.', name_previous=None),\n Row(company_id='1062449', name_latest='Buffalo Wild Wings Inc', name_previous=None),\n Row(company_id='883237', name_latest='Virtus Investment Partners, Inc.', name_previous=None),\n Row(company_id='1100878', name_latest='ML Select Futures I LP', name_previous=None),\n Row(company_id='1455684', name_latest='TPI Composites, Inc', name_previous=None),\n Row(company_id='60667', name_latest='Lowes Companies Inc', name_previous=None),\n Row(company_id='1183276', name_latest='SKY Petroleum, Inc.', name_previous=None),\n Row(company_id='1540699', name_latest='Hardwood Acquisition Corp', name_previous=None),\n Row(company_id='1562914', name_latest='American Express Issuance Trust II', name_previous=None),\n Row(company_id='1652031', name_latest='Bank OF America Merrill Lynch Commercial Mortgage Trust 2015-Ubs7', name_previous=None),\n Row(company_id='1517577', name_latest='Salient Products Corp', name_previous=None),\n Row(company_id='1398551', name_latest='Yongye International, Inc.', name_previous=None),\n Row(company_id='1362502', name_latest='ALL American PET Company, Inc.', name_previous=None),\n Row(company_id='1173431', name_latest='TD Ameritrade Holding Corp', name_previous=None),\n Row(company_id='1281922', name_latest='Triangle Petroleum Corp', name_previous=None),\n Row(company_id='745543', name_latest='ALL State Properties Holdings, Inc.', name_previous=None),\n Row(company_id='1083490', name_latest='Sunrise Real Estate Group Inc', name_previous=None),\n Row(company_id='1471728', name_latest='Entergy Texas Restoration Funding, LLC', name_previous=None),\n Row(company_id='1502756', name_latest='Zayo Group LLC', name_previous=None),\n Row(company_id='1413837', name_latest='First Foundation Inc.', name_previous=None),\n Row(company_id='1426945', name_latest='Echo Global Logistics, Inc.', name_previous=None),\n Row(company_id='1369868', name_latest='China Biologic Products, Inc.', name_previous=None),\n Row(company_id='1448301', name_latest='Anchor Bancorp', name_previous=None),\n Row(company_id='811830', name_latest='Santander Holdings Usa, Inc.', name_previous=None),\n Row(company_id='1038286', name_latest='Golden State Petroleum Transport Corp', name_previous=None),\n Row(company_id='872821', name_latest='Wilmington Trust Corp', name_previous=None),\n Row(company_id='836429', name_latest='Synergetics USA Inc', name_previous=None),\n Row(company_id='44545', name_latest='Gulf Power CO', name_previous=None),\n Row(company_id='855683', name_latest='Milestone Scientific Inc.', name_previous=None),\n Row(company_id='792966', name_latest='Farmers & Merchants Bancorp Inc', name_previous=None),\n Row(company_id='1618561', name_latest='Nexvet Biopharma PLC', name_previous=None),\n Row(company_id='1043222', name_latest='Chinawe COM Inc', name_previous=None),\n Row(company_id='1600065', name_latest='MW Bancorp, Inc.', name_previous=None),\n Row(company_id='1493611', name_latest='SLC Student Loan Trust 2010-1', name_previous=None),\n Row(company_id='1337675', name_latest='Jazz Technologies, Inc.', name_previous=None),\n Row(company_id='885550', name_latest='Credit Acceptance Corp', name_previous=None),\n Row(company_id='1003986', name_latest='Taylor Calvin B Bankshares Inc', name_previous=None),\n Row(company_id='764241', name_latest='Integra Bank Corp', name_previous=None),\n Row(company_id='1258602', name_latest='Nelnet Inc', name_previous=None),\n Row(company_id='1076966', name_latest='Sierra Resource Group Inc', name_previous=None),\n Row(company_id='802724', name_latest='Insite Vision Inc', name_previous=None),\n Row(company_id='1443242', name_latest='Bohai Pharmaceuticals Group, Inc.', name_previous=None),\n Row(company_id='1328208', name_latest='Golden Gate Homes, Inc.', name_previous=None),\n Row(company_id='1458962', name_latest='Mindbody, Inc.', name_previous=None),\n Row(company_id='1587981', name_latest='Comm 2013-Ccre12 Mortgage Trust', name_previous=None),\n Row(company_id='1617351', name_latest='Lepota Inc', name_previous=None),\n Row(company_id='1515173', name_latest='NEW Mountain Finance AIV Holdings Corp', name_previous=None),\n Row(company_id='1603286', name_latest='Dominion Midstream Partners, LP', name_previous=None),\n Row(company_id='1136463', name_latest='First Corp /CN/', name_previous=None),\n Row(company_id='1083663', name_latest='I/Omagic Corp', name_previous=None),\n Row(company_id='1354866', name_latest='Security Devices International Inc.', name_previous=None),\n Row(company_id='216539', name_latest='Media General Inc', name_previous=None),\n Row(company_id='1466056', name_latest='Bhakti Capital Corp.', name_previous=None),\n Row(company_id='743238', name_latest='Spartan Motors Inc', name_previous=None),\n Row(company_id='1092807', name_latest='Alpine AIR Express Inc/De', name_previous=None),\n Row(company_id='1502152', name_latest='First Titan Corp.', name_previous=None),\n Row(company_id='896778', name_latest='Conceptus Inc', name_previous=None),\n Row(company_id='1367832', name_latest='Aurora Diagnostics Holdings LLC', name_previous=None),\n Row(company_id='1169561', name_latest='Commvault Systems Inc', name_previous=None),\n Row(company_id='1610074', name_latest='GLP Financing II, Inc.', name_previous=None),\n Row(company_id='1176325', name_latest='Skinny Nutritional Corp.', name_previous=None),\n Row(company_id='1434109', name_latest='DRC Ventures ,Inc.', name_previous=None),\n Row(company_id='105744', name_latest='NEW Concept Energy, Inc.', name_previous=None),\n Row(company_id='879526', name_latest='Wabash National Corp /DE', name_previous=None),\n Row(company_id='930553', name_latest='Ista Pharmaceuticals Inc', name_previous=None),\n Row(company_id='1487997', name_latest='Green Endeavors, Inc.', name_previous=None),\n Row(company_id='1276187', name_latest='Energy Transfer Equity, L.P.', name_previous=None),\n Row(company_id='351789', name_latest='Electro Sensors Inc', name_previous=None),\n Row(company_id='1289441', name_latest='Rotoblock Corp', name_previous=None),\n Row(company_id='1608429', name_latest='GEN Serv, Inc.', name_previous=None),\n Row(company_id='1608104', name_latest='Sand International Inc', name_previous=None),\n Row(company_id='1045541', name_latest='Kwik Fill Corp', name_previous=None),\n Row(company_id='1346222', name_latest='First United Ethanol LLC', name_previous=None),\n Row(company_id='1336047', name_latest='Boardwalk Pipeline Partners, LP', name_previous=None),\n Row(company_id='1542574', name_latest='Prosper Funding LLC', name_previous=None),\n Row(company_id='1362988', name_latest='Aircastle LTD', name_previous=None),\n Row(company_id='1518222', name_latest='Bankrate, Inc.', name_previous=None),\n Row(company_id='1029831', name_latest='Hillman Companies Inc', name_previous=None),\n Row(company_id='1332052', name_latest='Raven Gold Corp', name_previous=None),\n Row(company_id='1438133', name_latest='Tandem Diabetes Care Inc', name_previous=None),\n Row(company_id='1248124', name_latest='Cheviot Financial Corp', name_previous=None),\n Row(company_id='1594617', name_latest='LA Quinta Holdings Inc.', name_previous=None),\n Row(company_id='850141', name_latest='Horace Mann Educators Corp /DE/', name_previous=None),\n Row(company_id='1646829', name_latest='Usaa Auto Owner Trust 2015-1', name_previous=None),\n Row(company_id='1500497', name_latest='GIA Investments Corp.', name_previous=None),\n Row(company_id='943580', name_latest='Lecroy Corp', name_previous=None),\n Row(company_id='1490028', name_latest='Sequoia Mortgage Trust 2010-H1', name_previous=None),\n Row(company_id='1100592', name_latest='Assured Pharmacy, Inc.', name_previous=None),\n Row(company_id='1093207', name_latest='Crossroads Systems Inc', name_previous=None),\n Row(company_id='1573766', name_latest='Ebullion, Inc.', name_previous=None),\n Row(company_id='55604', name_latest='Keystone Consolidated Industries Inc', name_previous=None),\n Row(company_id='1597339', name_latest='Jpmbb Commercial Mortgage Securities Trust 2014-C18', name_previous=None),\n Row(company_id='1583993', name_latest='BMO Covered Bond Guarantor Limited Partnership', name_previous=None),\n Row(company_id='1135152', name_latest='FMC Technologies Inc', name_previous=None),\n Row(company_id='1234307', name_latest='Directv Financing CO Inc', name_previous=None),\n Row(company_id='1374845', name_latest='Tamm OIL & GAS Corp.', name_previous=None),\n Row(company_id='1040896', name_latest='Intellicheck Mobilisa, Inc.', name_previous=None),\n Row(company_id='830656', name_latest='Pressure Biosciences Inc', name_previous=None),\n Row(company_id='1411846', name_latest='Here Enterprises, Inc.', name_previous=None),\n Row(company_id='1450335', name_latest='Commonwealth Income & Growth Fund Vii, LP', name_previous=None),\n Row(company_id='1365997', name_latest='Bank OF THE Carolinas Corp', name_previous=None),\n Row(company_id='1141240', name_latest='Liquidmetal Technologies Inc', name_previous=None),\n Row(company_id='906553', name_latest='Boyd Gaming Corp', name_previous=None),\n Row(company_id='1392562', name_latest='Louisiana Bancorp Inc', name_previous=None),\n Row(company_id='934543', name_latest='American Church Mortgage CO', name_previous=None),\n Row(company_id='1428469', name_latest='Voice Assist, Inc.', name_previous=None),\n Row(company_id='928375', name_latest='Dutch Gold Resources Inc', name_previous=None),\n Row(company_id='1465872', name_latest='Vantage Drilling International', name_previous=None),\n Row(company_id='1084869', name_latest='1 800 Flowers COM Inc', name_previous=None),\n Row(company_id='46619', name_latest='Heico Corp', name_previous=None),\n Row(company_id='1074871', name_latest='Bear Lake Recreation Inc', name_previous=None),\n Row(company_id='85535', name_latest='Royal Gold Inc', name_previous=None),\n Row(company_id='1445883', name_latest='Firefish, Inc', name_previous=None),\n Row(company_id='1089907', name_latest='SWK Holdings Corp', name_previous=None),\n Row(company_id='1377963', name_latest='Westmont Resources Inc.', name_previous=None),\n Row(company_id='885508', name_latest='Stratus Properties Inc', name_previous=None),\n Row(company_id='798287', name_latest='PAM Transportation Services Inc', name_previous=None),\n Row(company_id='1340909', name_latest='Strats SM Trust FOR Wal-Mart Stores, Inc. Securities, Series 2005-4', name_previous=None),\n Row(company_id='1597483', name_latest='Visual Acumen, Inc.', name_previous=None),\n Row(company_id='1011308', name_latest='Footstar Inc', name_previous=None),\n Row(company_id='1509333', name_latest='Hyundai Auto Receivables Trust 2011-A', name_previous=None),\n Row(company_id='1501845', name_latest='Solo International, Inc', name_previous=None),\n Row(company_id='1020859', name_latest='United Natural Foods Inc', name_previous=None),\n Row(company_id='864749', name_latest='Trimble Navigation LTD /CA/', name_previous=None),\n Row(company_id='1496264', name_latest='Hudson Pacific Properties, L.P.', name_previous=None),\n Row(company_id='1084755', name_latest='Ariba Inc', name_previous=None),\n Row(company_id='893949', name_latest='Mednax, Inc.', name_previous=None),\n Row(company_id='1097430', name_latest='International Monetary Systems LTD /WI/', name_previous=None),\n Row(company_id='1411658', name_latest='Digitiliti Inc', name_previous=None),\n Row(company_id='1036030', name_latest='Wayne Savings Bancshares Inc /DE/', name_previous=None),\n Row(company_id='1480797', name_latest='Wilder Filing, Inc.', name_previous=None),\n Row(company_id='1419985', name_latest='Stalar 1, Inc.', name_previous=None),\n Row(company_id='1579010', name_latest='Hispanica International Delights OF America, Inc.', name_previous=None),\n Row(company_id='1487798', name_latest='ECA Marcellus Trust I', name_previous=None),\n Row(company_id='1297203', name_latest='HS3 Technologies Inc.', name_previous=None),\n Row(company_id='1326252', name_latest='FOX Petroleum Inc.', name_previous=None),\n Row(company_id='1042773', name_latest='Centerpoint Energy Resources Corp', name_previous=None),\n Row(company_id='1550377', name_latest='Bakercorp International, Inc.', name_previous=None),\n Row(company_id='1340652', name_latest='Chemocentryx, Inc.', name_previous=None),\n Row(company_id='1093691', name_latest='Plug Power Inc', name_previous=None),\n Row(company_id='875729', name_latest='Bion Environmental Technologies Inc', name_previous=None),\n Row(company_id='854560', name_latest='Great Southern Bancorp Inc', name_previous=None),\n Row(company_id='1598428', name_latest='Timkensteel Corp', name_previous=None),\n Row(company_id='1533037', name_latest='Nissan Auto Receivables 2011-B Owner Trust', name_previous=None),\n Row(company_id='1282977', name_latest='Greenhill & CO Inc', name_previous=None),\n Row(company_id='1105705', name_latest='Time Warner Inc.', name_previous=None),\n Row(company_id='1529727', name_latest='GE Equipment Midticket Llc, Series 2011-1', name_previous=None),\n Row(company_id='1138978', name_latest='Turbine Truck Engines Inc', name_previous=None),\n Row(company_id='763907', name_latest='First United Corp/Md/', name_previous=None),\n Row(company_id='36840', name_latest='First Real Estate Investment Trust OF NEW Jersey', name_previous=None),\n Row(company_id='1337298', name_latest='Futurefuel Corp.', name_previous=None),\n Row(company_id='1424454', name_latest='Rovi Corp', name_previous=None),\n Row(company_id='921825', name_latest='First Industrial Realty Trust Inc', name_previous=None),\n Row(company_id='68270', name_latest='Ruby Tuesday Inc', name_previous=None),\n Row(company_id='878927', name_latest='OLD Dominion Freight Line Inc/Va', name_previous=None),\n Row(company_id='1402478', name_latest='Vangent, Inc.', name_previous=None),\n Row(company_id='1585023', name_latest='Coastway Bancorp, Inc.', name_previous=None),\n Row(company_id='1636023', name_latest='Westrock CO', name_previous=None),\n Row(company_id='907649', name_latest='FX Energy Inc', name_previous=None),\n Row(company_id='1439724', name_latest='Oakridge International Corp', name_previous=None),\n Row(company_id='1013880', name_latest='Teletech Holdings Inc', name_previous=None),\n Row(company_id='1626853', name_latest='Majesco', name_previous=None),\n Row(company_id='1024478', name_latest='Rockwell Automation Inc', name_previous=None),\n Row(company_id='1405073', name_latest='Approach Resources Inc', name_previous=None),\n Row(company_id='18172', name_latest='Castle A M & CO', name_previous=None),\n Row(company_id='1334741', name_latest='Majestic OIL & GAS', name_previous=None),\n Row(company_id='1490470', name_latest='Hyundai Auto Receivables Trust 2010-A', name_previous=None),\n Row(company_id='1566011', name_latest='PBF Holding CO LLC', name_previous=None),\n Row(company_id='1576778', name_latest='UBL Interactive,Inc.', name_previous=None),\n Row(company_id='1415404', name_latest='Echostar Corp', name_previous=None),\n Row(company_id='1160084', name_latest='Locateplus Holdings Corp', name_previous=None),\n Row(company_id='1100394', name_latest='Redfin Network, Inc.', name_previous=None),\n Row(company_id='1200375', name_latest='Codexis Inc', name_previous=None),\n Row(company_id='792987', name_latest='Astec Industries Inc', name_previous=None),\n Row(company_id='1130128', name_latest='China IVY School, Inc.', name_previous=None),\n Row(company_id='1594485', name_latest='Royal Bakery Holdings, Inc.', name_previous=None),\n Row(company_id='912030', name_latest='Torch Energy Royalty Trust', name_previous=None),\n Row(company_id='1587650', name_latest='Appalachian Consumer Rate Relief Funding LLC', name_previous=None),\n Row(company_id='1382805', name_latest='Game Trading Technologies, Inc.', name_previous=None),\n Row(company_id='74145', name_latest='Oklahoma GAS & Electric CO', name_previous=None),\n Row(company_id='1402453', name_latest='Ezjr, Inc.', name_previous=None),\n Row(company_id='1085280', name_latest='Tibco Software Inc', name_previous=None),\n Row(company_id='1519061', name_latest='Trinseo S.A.', name_previous=None),\n Row(company_id='314690', name_latest='Century Properties Fund XV', name_previous=None),\n Row(company_id='315374', name_latest='Hurco Companies Inc', name_previous=None),\n Row(company_id='1414964', name_latest='Resource Real Estate Investors 6 LP', name_previous=None),\n Row(company_id='1408356', name_latest='Solarcity Corp', name_previous=None),\n Row(company_id='1088413', name_latest='Greystone Logistics, Inc.', name_previous=None),\n Row(company_id='1601602', name_latest='DS Services Holdings, Inc.', name_previous=None),\n Row(company_id='104169', name_latest='WAL Mart Stores Inc', name_previous=None),\n Row(company_id='1522121', name_latest='Neptune Acquisition Corp.', name_previous=None),\n Row(company_id='1583771', name_latest='Contravir Pharmaceuticals, Inc.', name_previous=None),\n Row(company_id='1401257', name_latest='Forum Energy Technologies, Inc.', name_previous=None),\n Row(company_id='1277406', name_latest='Spirit Realty Capital, Inc.', name_previous=None),\n Row(company_id='920371', name_latest='Simpson Manufacturing CO Inc /CA/', name_previous=None),\n Row(company_id='1566978', name_latest='Alphabet Holding Company, Inc.', name_previous=None),\n Row(company_id='1640384', name_latest='LM Funding America, Inc.', name_previous=None),\n ...]"
     },
     "metadata": {},
     "execution_count": 51
    }
   ],
   "source": [
    "result_set = session.execute(\"\"\" SELECT * FROM COMPANY\"\"\")\n",
    "result_set.current_rows"
   ]
  }
 ],
 "metadata": {
  "language_info": {
   "codemirror_mode": {
    "name": "ipython",
    "version": 3
   },
   "file_extension": ".py",
   "mimetype": "text/x-python",
   "name": "python",
   "nbconvert_exporter": "python",
   "pygments_lexer": "ipython3",
   "version": "3.7.7-final"
  },
  "orig_nbformat": 2,
  "kernelspec": {
   "name": "python37764bitbaseconda6dbd0a79d65342aaac9adf279ef76d69",
   "display_name": "Python 3.7.7 64-bit ('base': conda)"
  }
 },
 "nbformat": 4,
 "nbformat_minor": 2
}